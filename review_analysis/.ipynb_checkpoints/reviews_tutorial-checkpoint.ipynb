{
 "cells": [
  {
   "cell_type": "markdown",
   "id": "23df6827",
   "metadata": {},
   "source": [
    "## Overview of the dataframe"
   ]
  },
  {
   "cell_type": "code",
   "execution_count": 46,
   "id": "8167517b",
   "metadata": {},
   "outputs": [],
   "source": [
    "import pandas\n",
    "from datetime import datetime\n",
    "from pytz import utc\n",
    "data = pandas.read_csv(\"reviews.csv\", parse_dates=[\"Timestamp\"])"
   ]
  },
  {
   "cell_type": "code",
   "execution_count": 25,
   "id": "d043edd7",
   "metadata": {},
   "outputs": [
    {
     "data": {
      "text/html": [
       "<div>\n",
       "<style scoped>\n",
       "    .dataframe tbody tr th:only-of-type {\n",
       "        vertical-align: middle;\n",
       "    }\n",
       "\n",
       "    .dataframe tbody tr th {\n",
       "        vertical-align: top;\n",
       "    }\n",
       "\n",
       "    .dataframe thead th {\n",
       "        text-align: right;\n",
       "    }\n",
       "</style>\n",
       "<table border=\"1\" class=\"dataframe\">\n",
       "  <thead>\n",
       "    <tr style=\"text-align: right;\">\n",
       "      <th></th>\n",
       "      <th>Course Name</th>\n",
       "      <th>Timestamp</th>\n",
       "      <th>Rating</th>\n",
       "      <th>Comment</th>\n",
       "    </tr>\n",
       "  </thead>\n",
       "  <tbody>\n",
       "    <tr>\n",
       "      <th>0</th>\n",
       "      <td>The Python Mega Course: Build 10 Real World Ap...</td>\n",
       "      <td>2021-04-02 06:25:52+00:00</td>\n",
       "      <td>4.0</td>\n",
       "      <td>NaN</td>\n",
       "    </tr>\n",
       "    <tr>\n",
       "      <th>1</th>\n",
       "      <td>The Python Mega Course: Build 10 Real World Ap...</td>\n",
       "      <td>2021-04-02 05:12:34+00:00</td>\n",
       "      <td>4.0</td>\n",
       "      <td>NaN</td>\n",
       "    </tr>\n",
       "    <tr>\n",
       "      <th>2</th>\n",
       "      <td>The Python Mega Course: Build 10 Real World Ap...</td>\n",
       "      <td>2021-04-02 05:11:03+00:00</td>\n",
       "      <td>4.0</td>\n",
       "      <td>NaN</td>\n",
       "    </tr>\n",
       "    <tr>\n",
       "      <th>3</th>\n",
       "      <td>The Python Mega Course: Build 10 Real World Ap...</td>\n",
       "      <td>2021-04-02 03:33:24+00:00</td>\n",
       "      <td>5.0</td>\n",
       "      <td>NaN</td>\n",
       "    </tr>\n",
       "    <tr>\n",
       "      <th>4</th>\n",
       "      <td>The Python Mega Course: Build 10 Real World Ap...</td>\n",
       "      <td>2021-04-02 03:31:49+00:00</td>\n",
       "      <td>4.5</td>\n",
       "      <td>NaN</td>\n",
       "    </tr>\n",
       "  </tbody>\n",
       "</table>\n",
       "</div>"
      ],
      "text/plain": [
       "                                         Course Name  \\\n",
       "0  The Python Mega Course: Build 10 Real World Ap...   \n",
       "1  The Python Mega Course: Build 10 Real World Ap...   \n",
       "2  The Python Mega Course: Build 10 Real World Ap...   \n",
       "3  The Python Mega Course: Build 10 Real World Ap...   \n",
       "4  The Python Mega Course: Build 10 Real World Ap...   \n",
       "\n",
       "                   Timestamp  Rating Comment  \n",
       "0  2021-04-02 06:25:52+00:00     4.0     NaN  \n",
       "1  2021-04-02 05:12:34+00:00     4.0     NaN  \n",
       "2  2021-04-02 05:11:03+00:00     4.0     NaN  \n",
       "3  2021-04-02 03:33:24+00:00     5.0     NaN  \n",
       "4  2021-04-02 03:31:49+00:00     4.5     NaN  "
      ]
     },
     "execution_count": 25,
     "metadata": {},
     "output_type": "execute_result"
    }
   ],
   "source": [
    "data.head()"
   ]
  },
  {
   "cell_type": "code",
   "execution_count": 4,
   "id": "606f1949",
   "metadata": {},
   "outputs": [
    {
     "data": {
      "text/plain": [
       "(45000, 4)"
      ]
     },
     "execution_count": 4,
     "metadata": {},
     "output_type": "execute_result"
    }
   ],
   "source": [
    "data.shape"
   ]
  },
  {
   "cell_type": "code",
   "execution_count": 5,
   "id": "52b8b08c",
   "metadata": {},
   "outputs": [
    {
     "data": {
      "text/plain": [
       "Index(['Course Name', 'Timestamp', 'Rating', 'Comment'], dtype='object')"
      ]
     },
     "execution_count": 5,
     "metadata": {},
     "output_type": "execute_result"
    }
   ],
   "source": [
    "data.columns"
   ]
  },
  {
   "cell_type": "code",
   "execution_count": 6,
   "id": "f6695c21",
   "metadata": {},
   "outputs": [
    {
     "data": {
      "text/plain": [
       "array([[<AxesSubplot:title={'center':'Rating'}>]], dtype=object)"
      ]
     },
     "execution_count": 6,
     "metadata": {},
     "output_type": "execute_result"
    },
    {
     "data": {
      "image/png": "[encoded data removed]",
      "text/plain": [
       "<Figure size 432x288 with 1 Axes>"
      ]
     },
     "metadata": {
      "needs_background": "light"
     },
     "output_type": "display_data"
    }
   ],
   "source": [
    "data.hist(\"Rating\")"
   ]
  },
  {
   "cell_type": "markdown",
   "id": "e655286d",
   "metadata": {},
   "source": [
    "## Selecting data from the dataframe"
   ]
  },
  {
   "cell_type": "code",
   "execution_count": 26,
   "id": "02fe907d",
   "metadata": {},
   "outputs": [
    {
     "data": {
      "text/plain": [
       "4.442155555555556"
      ]
     },
     "execution_count": 26,
     "metadata": {},
     "output_type": "execute_result"
    }
   ],
   "source": [
    "data[\"Rating\"].mean()"
   ]
  },
  {
   "cell_type": "code",
   "execution_count": 28,
   "id": "6a39f63b",
   "metadata": {},
   "outputs": [
    {
     "data": {
      "text/plain": [
       "array(['The Python Mega Course: Build 10 Real World Applications',\n",
       "       'The Complete Python Course: Build 10 Professional OOP Apps',\n",
       "       '100 Python Exercises I: Evaluate and Improve Your Skills',\n",
       "       'Interactive Data Visualization with Python and Bokeh',\n",
       "       'Python for Beginners with Examples',\n",
       "       'Data Processing with Python',\n",
       "       '100 Python Exercises II: Evaluate and Improve Your Skills',\n",
       "       'Learn GIS in One Hour'], dtype=object)"
      ]
     },
     "execution_count": 28,
     "metadata": {},
     "output_type": "execute_result"
    }
   ],
   "source": [
    "data['Course Name'].unique()"
   ]
  },
  {
   "cell_type": "markdown",
   "id": "20f77f28",
   "metadata": {},
   "source": [
    "### Selecting a row"
   ]
  },
  {
   "cell_type": "code",
   "execution_count": 9,
   "id": "7e12d4a6",
   "metadata": {},
   "outputs": [
    {
     "data": {
      "text/plain": [
       "Course Name    The Python Mega Course: Build 10 Real World Ap...\n",
       "Timestamp                              2021-04-02 03:33:24+00:00\n",
       "Rating                                                       5.0\n",
       "Comment                                                      NaN\n",
       "Name: 3, dtype: object"
      ]
     },
     "execution_count": 9,
     "metadata": {},
     "output_type": "execute_result"
    }
   ],
   "source": [
    "data.iloc[3]"
   ]
  },
  {
   "cell_type": "code",
   "execution_count": 11,
   "id": "73f061ea",
   "metadata": {},
   "outputs": [
    {
     "data": {
      "text/html": [
       "<div>\n",
       "<style scoped>\n",
       "    .dataframe tbody tr th:only-of-type {\n",
       "        vertical-align: middle;\n",
       "    }\n",
       "\n",
       "    .dataframe tbody tr th {\n",
       "        vertical-align: top;\n",
       "    }\n",
       "\n",
       "    .dataframe thead th {\n",
       "        text-align: right;\n",
       "    }\n",
       "</style>\n",
       "<table border=\"1\" class=\"dataframe\">\n",
       "  <thead>\n",
       "    <tr style=\"text-align: right;\">\n",
       "      <th></th>\n",
       "      <th>Course Name</th>\n",
       "      <th>Timestamp</th>\n",
       "      <th>Rating</th>\n",
       "      <th>Comment</th>\n",
       "    </tr>\n",
       "  </thead>\n",
       "  <tbody>\n",
       "    <tr>\n",
       "      <th>1</th>\n",
       "      <td>The Python Mega Course: Build 10 Real World Ap...</td>\n",
       "      <td>2021-04-02 05:12:34+00:00</td>\n",
       "      <td>4.0</td>\n",
       "      <td>NaN</td>\n",
       "    </tr>\n",
       "    <tr>\n",
       "      <th>2</th>\n",
       "      <td>The Python Mega Course: Build 10 Real World Ap...</td>\n",
       "      <td>2021-04-02 05:11:03+00:00</td>\n",
       "      <td>4.0</td>\n",
       "      <td>NaN</td>\n",
       "    </tr>\n",
       "  </tbody>\n",
       "</table>\n",
       "</div>"
      ],
      "text/plain": [
       "                                         Course Name  \\\n",
       "1  The Python Mega Course: Build 10 Real World Ap...   \n",
       "2  The Python Mega Course: Build 10 Real World Ap...   \n",
       "\n",
       "                   Timestamp  Rating Comment  \n",
       "1  2021-04-02 05:12:34+00:00     4.0     NaN  \n",
       "2  2021-04-02 05:11:03+00:00     4.0     NaN  "
      ]
     },
     "execution_count": 11,
     "metadata": {},
     "output_type": "execute_result"
    }
   ],
   "source": [
    "data.iloc[1:3]"
   ]
  },
  {
   "cell_type": "code",
   "execution_count": 15,
   "id": "a3097b6f",
   "metadata": {},
   "outputs": [
    {
     "data": {
      "text/html": [
       "<div>\n",
       "<style scoped>\n",
       "    .dataframe tbody tr th:only-of-type {\n",
       "        vertical-align: middle;\n",
       "    }\n",
       "\n",
       "    .dataframe tbody tr th {\n",
       "        vertical-align: top;\n",
       "    }\n",
       "\n",
       "    .dataframe thead th {\n",
       "        text-align: right;\n",
       "    }\n",
       "</style>\n",
       "<table border=\"1\" class=\"dataframe\">\n",
       "  <thead>\n",
       "    <tr style=\"text-align: right;\">\n",
       "      <th></th>\n",
       "      <th>Course Name</th>\n",
       "      <th>Rating</th>\n",
       "    </tr>\n",
       "  </thead>\n",
       "  <tbody>\n",
       "    <tr>\n",
       "      <th>1</th>\n",
       "      <td>The Python Mega Course: Build 10 Real World Ap...</td>\n",
       "      <td>4.0</td>\n",
       "    </tr>\n",
       "    <tr>\n",
       "      <th>2</th>\n",
       "      <td>The Python Mega Course: Build 10 Real World Ap...</td>\n",
       "      <td>4.0</td>\n",
       "    </tr>\n",
       "  </tbody>\n",
       "</table>\n",
       "</div>"
      ],
      "text/plain": [
       "                                         Course Name  Rating\n",
       "1  The Python Mega Course: Build 10 Real World Ap...     4.0\n",
       "2  The Python Mega Course: Build 10 Real World Ap...     4.0"
      ]
     },
     "execution_count": 15,
     "metadata": {},
     "output_type": "execute_result"
    }
   ],
   "source": [
    "data[['Course Name', 'Rating']].iloc[1:3]"
   ]
  },
  {
   "cell_type": "code",
   "execution_count": 16,
   "id": "5c7f922a",
   "metadata": {},
   "outputs": [
    {
     "data": {
      "text/plain": [
       "'2021-04-02 05:11:03+00:00'"
      ]
     },
     "execution_count": 16,
     "metadata": {},
     "output_type": "execute_result"
    }
   ],
   "source": [
    "data['Timestamp'].iloc[2]"
   ]
  },
  {
   "cell_type": "code",
   "execution_count": 18,
   "id": "f861144b",
   "metadata": {},
   "outputs": [
    {
     "data": {
      "text/plain": [
       "4.0"
      ]
     },
     "execution_count": 18,
     "metadata": {},
     "output_type": "execute_result"
    }
   ],
   "source": [
    "data.at[2, 'Rating']"
   ]
  },
  {
   "cell_type": "markdown",
   "id": "3d9998d6",
   "metadata": {},
   "source": [
    "## Filtering data based on conditions"
   ]
  },
  {
   "cell_type": "code",
   "execution_count": 20,
   "id": "7a062627",
   "metadata": {},
   "outputs": [
    {
     "data": {
      "text/plain": [
       "29758"
      ]
     },
     "execution_count": 20,
     "metadata": {},
     "output_type": "execute_result"
    }
   ],
   "source": [
    "len(data[data[\"Rating\"] > 4])"
   ]
  },
  {
   "cell_type": "code",
   "execution_count": 21,
   "id": "407839e9",
   "metadata": {},
   "outputs": [
    {
     "data": {
      "text/plain": [
       "Course Name    29758\n",
       "Timestamp      29758\n",
       "Rating         29758\n",
       "Comment         4927\n",
       "dtype: int64"
      ]
     },
     "execution_count": 21,
     "metadata": {},
     "output_type": "execute_result"
    }
   ],
   "source": [
    "data[data[\"Rating\"] > 4].count()"
   ]
  },
  {
   "cell_type": "code",
   "execution_count": 38,
   "id": "791c985e",
   "metadata": {},
   "outputs": [
    {
     "data": {
      "text/html": [
       "<div>\n",
       "<style scoped>\n",
       "    .dataframe tbody tr th:only-of-type {\n",
       "        vertical-align: middle;\n",
       "    }\n",
       "\n",
       "    .dataframe tbody tr th {\n",
       "        vertical-align: top;\n",
       "    }\n",
       "\n",
       "    .dataframe thead th {\n",
       "        text-align: right;\n",
       "    }\n",
       "</style>\n",
       "<table border=\"1\" class=\"dataframe\">\n",
       "  <thead>\n",
       "    <tr style=\"text-align: right;\">\n",
       "      <th></th>\n",
       "      <th>Course Name</th>\n",
       "      <th>Timestamp</th>\n",
       "      <th>Rating</th>\n",
       "      <th>Comment</th>\n",
       "    </tr>\n",
       "  </thead>\n",
       "  <tbody>\n",
       "    <tr>\n",
       "      <th>396</th>\n",
       "      <td>Data Processing with Python</td>\n",
       "      <td>2021-03-19 11:46:46+00:00</td>\n",
       "      <td>4.5</td>\n",
       "      <td>NaN</td>\n",
       "    </tr>\n",
       "    <tr>\n",
       "      <th>1092</th>\n",
       "      <td>Data Processing with Python</td>\n",
       "      <td>2021-02-23 11:30:02+00:00</td>\n",
       "      <td>4.5</td>\n",
       "      <td>NaN</td>\n",
       "    </tr>\n",
       "    <tr>\n",
       "      <th>1493</th>\n",
       "      <td>Data Processing with Python</td>\n",
       "      <td>2021-02-11 19:43:04+00:00</td>\n",
       "      <td>4.5</td>\n",
       "      <td>NaN</td>\n",
       "    </tr>\n",
       "    <tr>\n",
       "      <th>1745</th>\n",
       "      <td>Data Processing with Python</td>\n",
       "      <td>2021-02-03 12:00:54+00:00</td>\n",
       "      <td>4.5</td>\n",
       "      <td>NaN</td>\n",
       "    </tr>\n",
       "    <tr>\n",
       "      <th>2348</th>\n",
       "      <td>Data Processing with Python</td>\n",
       "      <td>2021-01-18 18:49:54+00:00</td>\n",
       "      <td>4.5</td>\n",
       "      <td>NaN</td>\n",
       "    </tr>\n",
       "    <tr>\n",
       "      <th>...</th>\n",
       "      <td>...</td>\n",
       "      <td>...</td>\n",
       "      <td>...</td>\n",
       "      <td>...</td>\n",
       "    </tr>\n",
       "    <tr>\n",
       "      <th>43759</th>\n",
       "      <td>Data Processing with Python</td>\n",
       "      <td>2018-01-26 18:12:01+00:00</td>\n",
       "      <td>4.5</td>\n",
       "      <td>NaN</td>\n",
       "    </tr>\n",
       "    <tr>\n",
       "      <th>43909</th>\n",
       "      <td>Data Processing with Python</td>\n",
       "      <td>2018-01-23 06:46:13+00:00</td>\n",
       "      <td>4.5</td>\n",
       "      <td>NaN</td>\n",
       "    </tr>\n",
       "    <tr>\n",
       "      <th>43944</th>\n",
       "      <td>Data Processing with Python</td>\n",
       "      <td>2018-01-22 14:28:20+00:00</td>\n",
       "      <td>4.5</td>\n",
       "      <td>NaN</td>\n",
       "    </tr>\n",
       "    <tr>\n",
       "      <th>44318</th>\n",
       "      <td>Data Processing with Python</td>\n",
       "      <td>2018-01-14 04:15:23+00:00</td>\n",
       "      <td>4.5</td>\n",
       "      <td>NaN</td>\n",
       "    </tr>\n",
       "    <tr>\n",
       "      <th>44954</th>\n",
       "      <td>Data Processing with Python</td>\n",
       "      <td>2018-01-01 23:36:07+00:00</td>\n",
       "      <td>4.5</td>\n",
       "      <td>might have had a mac installation tutorial also</td>\n",
       "    </tr>\n",
       "  </tbody>\n",
       "</table>\n",
       "<p>156 rows × 4 columns</p>\n",
       "</div>"
      ],
      "text/plain": [
       "                       Course Name                  Timestamp  Rating  \\\n",
       "396    Data Processing with Python  2021-03-19 11:46:46+00:00     4.5   \n",
       "1092   Data Processing with Python  2021-02-23 11:30:02+00:00     4.5   \n",
       "1493   Data Processing with Python  2021-02-11 19:43:04+00:00     4.5   \n",
       "1745   Data Processing with Python  2021-02-03 12:00:54+00:00     4.5   \n",
       "2348   Data Processing with Python  2021-01-18 18:49:54+00:00     4.5   \n",
       "...                            ...                        ...     ...   \n",
       "43759  Data Processing with Python  2018-01-26 18:12:01+00:00     4.5   \n",
       "43909  Data Processing with Python  2018-01-23 06:46:13+00:00     4.5   \n",
       "43944  Data Processing with Python  2018-01-22 14:28:20+00:00     4.5   \n",
       "44318  Data Processing with Python  2018-01-14 04:15:23+00:00     4.5   \n",
       "44954  Data Processing with Python  2018-01-01 23:36:07+00:00     4.5   \n",
       "\n",
       "                                               Comment  \n",
       "396                                                NaN  \n",
       "1092                                               NaN  \n",
       "1493                                               NaN  \n",
       "1745                                               NaN  \n",
       "2348                                               NaN  \n",
       "...                                                ...  \n",
       "43759                                              NaN  \n",
       "43909                                              NaN  \n",
       "43944                                              NaN  \n",
       "44318                                              NaN  \n",
       "44954  might have had a mac installation tutorial also  \n",
       "\n",
       "[156 rows x 4 columns]"
      ]
     },
     "execution_count": 38,
     "metadata": {},
     "output_type": "execute_result"
    }
   ],
   "source": [
    "data[(data[\"Rating\"] > 4) & (data[\"Rating\"] < 5) & (data[\"Course Name\"] == 'Data Processing with Python')]"
   ]
  },
  {
   "cell_type": "code",
   "execution_count": 45,
   "id": "a5769096",
   "metadata": {},
   "outputs": [
    {
     "data": {
      "text/plain": [
       "0       2021-04-02 06:25:52+00:00\n",
       "1       2021-04-02 05:12:34+00:00\n",
       "2       2021-04-02 05:11:03+00:00\n",
       "3       2021-04-02 03:33:24+00:00\n",
       "4       2021-04-02 03:31:49+00:00\n",
       "                   ...           \n",
       "44995   2018-01-01 01:11:26+00:00\n",
       "44996   2018-01-01 01:09:56+00:00\n",
       "44997   2018-01-01 01:08:11+00:00\n",
       "44998   2018-01-01 01:05:26+00:00\n",
       "44999   2018-01-01 01:01:16+00:00\n",
       "Name: Timestamp, Length: 45000, dtype: datetime64[ns, UTC]"
      ]
     },
     "execution_count": 45,
     "metadata": {},
     "output_type": "execute_result"
    }
   ],
   "source": [
    "data[\"Timestamp\"]"
   ]
  },
  {
   "cell_type": "code",
   "execution_count": 47,
   "id": "4d853b64",
   "metadata": {},
   "outputs": [
    {
     "data": {
      "text/html": [
       "<div>\n",
       "<style scoped>\n",
       "    .dataframe tbody tr th:only-of-type {\n",
       "        vertical-align: middle;\n",
       "    }\n",
       "\n",
       "    .dataframe tbody tr th {\n",
       "        vertical-align: top;\n",
       "    }\n",
       "\n",
       "    .dataframe thead th {\n",
       "        text-align: right;\n",
       "    }\n",
       "</style>\n",
       "<table border=\"1\" class=\"dataframe\">\n",
       "  <thead>\n",
       "    <tr style=\"text-align: right;\">\n",
       "      <th></th>\n",
       "      <th>Course Name</th>\n",
       "      <th>Timestamp</th>\n",
       "      <th>Rating</th>\n",
       "      <th>Comment</th>\n",
       "    </tr>\n",
       "  </thead>\n",
       "  <tbody>\n",
       "    <tr>\n",
       "      <th>3065</th>\n",
       "      <td>Interactive Data Visualization with Python and...</td>\n",
       "      <td>2020-12-30 23:28:34+00:00</td>\n",
       "      <td>3.0</td>\n",
       "      <td>NaN</td>\n",
       "    </tr>\n",
       "    <tr>\n",
       "      <th>3066</th>\n",
       "      <td>The Python Mega Course: Build 10 Real World Ap...</td>\n",
       "      <td>2020-12-30 22:59:02+00:00</td>\n",
       "      <td>4.0</td>\n",
       "      <td>NaN</td>\n",
       "    </tr>\n",
       "    <tr>\n",
       "      <th>3067</th>\n",
       "      <td>The Python Mega Course: Build 10 Real World Ap...</td>\n",
       "      <td>2020-12-30 22:40:10+00:00</td>\n",
       "      <td>4.5</td>\n",
       "      <td>NaN</td>\n",
       "    </tr>\n",
       "    <tr>\n",
       "      <th>3068</th>\n",
       "      <td>The Python Mega Course: Build 10 Real World Ap...</td>\n",
       "      <td>2020-12-30 21:56:41+00:00</td>\n",
       "      <td>4.5</td>\n",
       "      <td>NaN</td>\n",
       "    </tr>\n",
       "    <tr>\n",
       "      <th>3069</th>\n",
       "      <td>The Python Mega Course: Build 10 Real World Ap...</td>\n",
       "      <td>2020-12-30 21:14:34+00:00</td>\n",
       "      <td>4.5</td>\n",
       "      <td>NaN</td>\n",
       "    </tr>\n",
       "    <tr>\n",
       "      <th>...</th>\n",
       "      <td>...</td>\n",
       "      <td>...</td>\n",
       "      <td>...</td>\n",
       "      <td>...</td>\n",
       "    </tr>\n",
       "    <tr>\n",
       "      <th>9729</th>\n",
       "      <td>The Python Mega Course: Build 10 Real World Ap...</td>\n",
       "      <td>2020-07-01 03:09:44+00:00</td>\n",
       "      <td>3.5</td>\n",
       "      <td>NaN</td>\n",
       "    </tr>\n",
       "    <tr>\n",
       "      <th>9730</th>\n",
       "      <td>The Python Mega Course: Build 10 Real World Ap...</td>\n",
       "      <td>2020-07-01 03:09:12+00:00</td>\n",
       "      <td>5.0</td>\n",
       "      <td>NaN</td>\n",
       "    </tr>\n",
       "    <tr>\n",
       "      <th>9731</th>\n",
       "      <td>The Python Mega Course: Build 10 Real World Ap...</td>\n",
       "      <td>2020-07-01 02:40:58+00:00</td>\n",
       "      <td>4.0</td>\n",
       "      <td>NaN</td>\n",
       "    </tr>\n",
       "    <tr>\n",
       "      <th>9732</th>\n",
       "      <td>The Python Mega Course: Build 10 Real World Ap...</td>\n",
       "      <td>2020-07-01 02:04:02+00:00</td>\n",
       "      <td>5.0</td>\n",
       "      <td>nice</td>\n",
       "    </tr>\n",
       "    <tr>\n",
       "      <th>9733</th>\n",
       "      <td>The Python Mega Course: Build 10 Real World Ap...</td>\n",
       "      <td>2020-07-01 00:01:34+00:00</td>\n",
       "      <td>2.0</td>\n",
       "      <td>Hard to follow if u have no experience program...</td>\n",
       "    </tr>\n",
       "  </tbody>\n",
       "</table>\n",
       "<p>6669 rows × 4 columns</p>\n",
       "</div>"
      ],
      "text/plain": [
       "                                            Course Name  \\\n",
       "3065  Interactive Data Visualization with Python and...   \n",
       "3066  The Python Mega Course: Build 10 Real World Ap...   \n",
       "3067  The Python Mega Course: Build 10 Real World Ap...   \n",
       "3068  The Python Mega Course: Build 10 Real World Ap...   \n",
       "3069  The Python Mega Course: Build 10 Real World Ap...   \n",
       "...                                                 ...   \n",
       "9729  The Python Mega Course: Build 10 Real World Ap...   \n",
       "9730  The Python Mega Course: Build 10 Real World Ap...   \n",
       "9731  The Python Mega Course: Build 10 Real World Ap...   \n",
       "9732  The Python Mega Course: Build 10 Real World Ap...   \n",
       "9733  The Python Mega Course: Build 10 Real World Ap...   \n",
       "\n",
       "                     Timestamp  Rating  \\\n",
       "3065 2020-12-30 23:28:34+00:00     3.0   \n",
       "3066 2020-12-30 22:59:02+00:00     4.0   \n",
       "3067 2020-12-30 22:40:10+00:00     4.5   \n",
       "3068 2020-12-30 21:56:41+00:00     4.5   \n",
       "3069 2020-12-30 21:14:34+00:00     4.5   \n",
       "...                        ...     ...   \n",
       "9729 2020-07-01 03:09:44+00:00     3.5   \n",
       "9730 2020-07-01 03:09:12+00:00     5.0   \n",
       "9731 2020-07-01 02:40:58+00:00     4.0   \n",
       "9732 2020-07-01 02:04:02+00:00     5.0   \n",
       "9733 2020-07-01 00:01:34+00:00     2.0   \n",
       "\n",
       "                                                Comment  \n",
       "3065                                                NaN  \n",
       "3066                                                NaN  \n",
       "3067                                                NaN  \n",
       "3068                                                NaN  \n",
       "3069                                                NaN  \n",
       "...                                                 ...  \n",
       "9729                                                NaN  \n",
       "9730                                                NaN  \n",
       "9731                                                NaN  \n",
       "9732                                               nice  \n",
       "9733  Hard to follow if u have no experience program...  \n",
       "\n",
       "[6669 rows x 4 columns]"
      ]
     },
     "execution_count": 47,
     "metadata": {},
     "output_type": "execute_result"
    }
   ],
   "source": [
    "data[(data[\"Timestamp\"] > datetime(2020, 7, 1, tzinfo=utc)) & (data[\"Timestamp\"] < datetime(2020, 12, 31, tzinfo=utc))]"
   ]
  },
  {
   "cell_type": "markdown",
   "id": "ad5ffb65",
   "metadata": {},
   "source": [
    "### Average rating"
   ]
  },
  {
   "cell_type": "code",
   "execution_count": 48,
   "id": "7c6435e8",
   "metadata": {},
   "outputs": [
    {
     "data": {
      "text/plain": [
       "4.442155555555556"
      ]
     },
     "execution_count": 48,
     "metadata": {},
     "output_type": "execute_result"
    }
   ],
   "source": [
    "data[\"Rating\"].mean()"
   ]
  },
  {
   "cell_type": "code",
   "execution_count": 53,
   "id": "2e6bc9aa",
   "metadata": {},
   "outputs": [
    {
     "data": {
      "text/plain": [
       "4.2373271889400925"
      ]
     },
     "execution_count": 53,
     "metadata": {},
     "output_type": "execute_result"
    }
   ],
   "source": [
    "data[data[\"Course Name\"] == 'Data Processing with Python'][\"Rating\"].mean()"
   ]
  },
  {
   "cell_type": "code",
   "execution_count": 56,
   "id": "c63259ff",
   "metadata": {},
   "outputs": [
    {
     "data": {
      "text/plain": [
       "4.476541271662339"
      ]
     },
     "execution_count": 56,
     "metadata": {},
     "output_type": "execute_result"
    }
   ],
   "source": [
    "data[(data[\"Timestamp\"] > datetime(2020, 1, 1, tzinfo=utc)) & \n",
    "     (data[\"Timestamp\"] < datetime(2020, 12, 31, tzinfo=utc))][\"Rating\"].mean()"
   ]
  },
  {
   "cell_type": "code",
   "execution_count": 57,
   "id": "301108b2",
   "metadata": {},
   "outputs": [
    {
     "data": {
      "text/plain": [
       "4.239612188365651"
      ]
     },
     "execution_count": 57,
     "metadata": {},
     "output_type": "execute_result"
    }
   ],
   "source": [
    "data[(data[\"Timestamp\"] > datetime(2020, 1, 1, tzinfo=utc)) & \n",
    "     (data[\"Timestamp\"] < datetime(2020, 12, 31, tzinfo=utc)) &\n",
    "     (data[\"Course Name\"] == 'Data Processing with Python')\n",
    "    ][\"Rating\"].mean()"
   ]
  },
  {
   "cell_type": "code",
   "execution_count": 59,
   "id": "f3b39532",
   "metadata": {},
   "outputs": [
    {
     "data": {
      "text/plain": [
       "4.489777908515959"
      ]
     },
     "execution_count": 59,
     "metadata": {},
     "output_type": "execute_result"
    }
   ],
   "source": [
    "data[data[\"Comment\"].notnull()][\"Rating\"].mean()"
   ]
  },
  {
   "cell_type": "code",
   "execution_count": 60,
   "id": "1de37dc4",
   "metadata": {},
   "outputs": [
    {
     "data": {
      "text/plain": [
       "Course Name    38201\n",
       "Timestamp      38201\n",
       "Rating         38201\n",
       "Comment            0\n",
       "dtype: int64"
      ]
     },
     "execution_count": 60,
     "metadata": {},
     "output_type": "execute_result"
    }
   ],
   "source": [
    "data[data[\"Comment\"].isnull()].count()"
   ]
  },
  {
   "cell_type": "code",
   "execution_count": 62,
   "id": "8c398571",
   "metadata": {},
   "outputs": [
    {
     "data": {
      "text/html": [
       "<div>\n",
       "<style scoped>\n",
       "    .dataframe tbody tr th:only-of-type {\n",
       "        vertical-align: middle;\n",
       "    }\n",
       "\n",
       "    .dataframe tbody tr th {\n",
       "        vertical-align: top;\n",
       "    }\n",
       "\n",
       "    .dataframe thead th {\n",
       "        text-align: right;\n",
       "    }\n",
       "</style>\n",
       "<table border=\"1\" class=\"dataframe\">\n",
       "  <thead>\n",
       "    <tr style=\"text-align: right;\">\n",
       "      <th></th>\n",
       "      <th>Course Name</th>\n",
       "      <th>Timestamp</th>\n",
       "      <th>Rating</th>\n",
       "      <th>Comment</th>\n",
       "    </tr>\n",
       "  </thead>\n",
       "  <tbody>\n",
       "    <tr>\n",
       "      <th>588</th>\n",
       "      <td>The Python Mega Course: Build 10 Real World Ap...</td>\n",
       "      <td>2021-03-12 06:29:18+00:00</td>\n",
       "      <td>3.0</td>\n",
       "      <td>Lots of projects don't have starter code and f...</td>\n",
       "    </tr>\n",
       "    <tr>\n",
       "      <th>1221</th>\n",
       "      <td>The Python Mega Course: Build 10 Real World Ap...</td>\n",
       "      <td>2021-02-20 05:00:04+00:00</td>\n",
       "      <td>5.0</td>\n",
       "      <td>it is a bit hard to understand as i am a medic...</td>\n",
       "    </tr>\n",
       "    <tr>\n",
       "      <th>1772</th>\n",
       "      <td>The Python Mega Course: Build 10 Real World Ap...</td>\n",
       "      <td>2021-02-02 18:39:20+00:00</td>\n",
       "      <td>4.5</td>\n",
       "      <td>it was a deep learning curve, its still hard t...</td>\n",
       "    </tr>\n",
       "    <tr>\n",
       "      <th>1882</th>\n",
       "      <td>The Complete Python Course: Build 10 Professio...</td>\n",
       "      <td>2021-01-30 14:06:16+00:00</td>\n",
       "      <td>5.0</td>\n",
       "      <td>I like instructor's step by step approach.  He...</td>\n",
       "    </tr>\n",
       "    <tr>\n",
       "      <th>2944</th>\n",
       "      <td>Learn GIS in One Hour</td>\n",
       "      <td>2021-01-03 22:26:55+00:00</td>\n",
       "      <td>2.0</td>\n",
       "      <td>Very hard to understand the instructor</td>\n",
       "    </tr>\n",
       "    <tr>\n",
       "      <th>...</th>\n",
       "      <td>...</td>\n",
       "      <td>...</td>\n",
       "      <td>...</td>\n",
       "      <td>...</td>\n",
       "    </tr>\n",
       "    <tr>\n",
       "      <th>43305</th>\n",
       "      <td>The Python Mega Course: Build 10 Real World Ap...</td>\n",
       "      <td>2018-02-06 19:32:14+00:00</td>\n",
       "      <td>4.5</td>\n",
       "      <td>Thank You Ardit for Your hard work on the cour...</td>\n",
       "    </tr>\n",
       "    <tr>\n",
       "      <th>43359</th>\n",
       "      <td>The Python Mega Course: Build 10 Real World Ap...</td>\n",
       "      <td>2018-02-05 16:07:51+00:00</td>\n",
       "      <td>3.0</td>\n",
       "      <td>The English accent is a bit hard to follow</td>\n",
       "    </tr>\n",
       "    <tr>\n",
       "      <th>43587</th>\n",
       "      <td>100 Python Exercises I: Evaluate and Improve Y...</td>\n",
       "      <td>2018-01-30 20:16:55+00:00</td>\n",
       "      <td>4.5</td>\n",
       "      <td>Wonderful course! I took half a star away beca...</td>\n",
       "    </tr>\n",
       "    <tr>\n",
       "      <th>43747</th>\n",
       "      <td>The Python Mega Course: Build 10 Real World Ap...</td>\n",
       "      <td>2018-01-26 21:38:50+00:00</td>\n",
       "      <td>3.0</td>\n",
       "      <td>Haven't completed the course yet but the instr...</td>\n",
       "    </tr>\n",
       "    <tr>\n",
       "      <th>44051</th>\n",
       "      <td>Data Processing with Python</td>\n",
       "      <td>2018-01-19 18:36:06+00:00</td>\n",
       "      <td>4.0</td>\n",
       "      <td>clear, useful and fast.  However, the volume i...</td>\n",
       "    </tr>\n",
       "  </tbody>\n",
       "</table>\n",
       "<p>93 rows × 4 columns</p>\n",
       "</div>"
      ],
      "text/plain": [
       "                                             Course Name  \\\n",
       "588    The Python Mega Course: Build 10 Real World Ap...   \n",
       "1221   The Python Mega Course: Build 10 Real World Ap...   \n",
       "1772   The Python Mega Course: Build 10 Real World Ap...   \n",
       "1882   The Complete Python Course: Build 10 Professio...   \n",
       "2944                               Learn GIS in One Hour   \n",
       "...                                                  ...   \n",
       "43305  The Python Mega Course: Build 10 Real World Ap...   \n",
       "43359  The Python Mega Course: Build 10 Real World Ap...   \n",
       "43587  100 Python Exercises I: Evaluate and Improve Y...   \n",
       "43747  The Python Mega Course: Build 10 Real World Ap...   \n",
       "44051                        Data Processing with Python   \n",
       "\n",
       "                      Timestamp  Rating  \\\n",
       "588   2021-03-12 06:29:18+00:00     3.0   \n",
       "1221  2021-02-20 05:00:04+00:00     5.0   \n",
       "1772  2021-02-02 18:39:20+00:00     4.5   \n",
       "1882  2021-01-30 14:06:16+00:00     5.0   \n",
       "2944  2021-01-03 22:26:55+00:00     2.0   \n",
       "...                         ...     ...   \n",
       "43305 2018-02-06 19:32:14+00:00     4.5   \n",
       "43359 2018-02-05 16:07:51+00:00     3.0   \n",
       "43587 2018-01-30 20:16:55+00:00     4.5   \n",
       "43747 2018-01-26 21:38:50+00:00     3.0   \n",
       "44051 2018-01-19 18:36:06+00:00     4.0   \n",
       "\n",
       "                                                 Comment  \n",
       "588    Lots of projects don't have starter code and f...  \n",
       "1221   it is a bit hard to understand as i am a medic...  \n",
       "1772   it was a deep learning curve, its still hard t...  \n",
       "1882   I like instructor's step by step approach.  He...  \n",
       "2944              Very hard to understand the instructor  \n",
       "...                                                  ...  \n",
       "43305  Thank You Ardit for Your hard work on the cour...  \n",
       "43359         The English accent is a bit hard to follow  \n",
       "43587  Wonderful course! I took half a star away beca...  \n",
       "43747  Haven't completed the course yet but the instr...  \n",
       "44051  clear, useful and fast.  However, the volume i...  \n",
       "\n",
       "[93 rows x 4 columns]"
      ]
     },
     "execution_count": 62,
     "metadata": {},
     "output_type": "execute_result"
    }
   ],
   "source": [
    "data[data[\"Comment\"].str.contains('hard', na=False)]"
   ]
  }
 ],
 "metadata": {
  "kernelspec": {
   "display_name": "Python 3 (ipykernel)",
   "language": "python",
   "name": "python3"
  },
  "language_info": {
   "codemirror_mode": {
    "name": "ipython",
    "version": 3
   },
   "file_extension": ".py",
   "mimetype": "text/x-python",
   "name": "python",
   "nbconvert_exporter": "python",
   "pygments_lexer": "ipython3",
   "version": "3.9.6"
  }
 },
 "nbformat": 4,
 "nbformat_minor": 5
}
